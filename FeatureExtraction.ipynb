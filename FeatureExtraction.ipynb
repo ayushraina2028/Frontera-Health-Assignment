{
 "cells": [
  {
   "cell_type": "code",
   "execution_count": 4,
   "metadata": {},
   "outputs": [
    {
     "name": "stderr",
     "output_type": "stream",
     "text": [
      "Extracting Features: 100%|██████████| 3950/3950 [00:54<00:00, 71.92file/s]"
     ]
    },
    {
     "name": "stdout",
     "output_type": "stream",
     "text": [
      "Feature extraction complete! Features saved in Features\n"
     ]
    },
    {
     "name": "stderr",
     "output_type": "stream",
     "text": [
      "\n"
     ]
    }
   ],
   "source": [
    "import os\n",
    "import librosa\n",
    "import numpy as np\n",
    "import soundfile as sf\n",
    "from tqdm import tqdm\n",
    "import json\n",
    "\n",
    "def get_audio_files(dataset_path):\n",
    "    audio_files = []\n",
    "    for root, _, files in os.walk(dataset_path):\n",
    "        for file in files:\n",
    "            if file.endswith(\".wav\"):\n",
    "                label = os.path.basename(root)  # Folder name as label\n",
    "                audio_files.append((os.path.join(root, file), label))\n",
    "    return audio_files\n",
    "\n",
    "def extract_features(file_path, target_sr=16000, n_mfcc=13, n_mels=128):\n",
    "    audio, sr = librosa.load(file_path, sr=target_sr, mono=True)  # Load audio\n",
    "    \n",
    "    # Compute Mel Spectrogram\n",
    "    mel_spec = librosa.feature.melspectrogram(y=audio, sr=sr, n_mels=n_mels)\n",
    "    mel_spec = librosa.power_to_db(mel_spec, ref=np.max)  # Convert to decibels\n",
    "    \n",
    "    # Compute MFCCs\n",
    "    mfccs = librosa.feature.mfcc(y=audio, sr=sr, n_mfcc=n_mfcc)\n",
    "    \n",
    "    return mel_spec, mfccs\n",
    "\n",
    "def process_and_save_features(dataset_path, feature_path):\n",
    "    os.makedirs(feature_path, exist_ok=True)\n",
    "    audio_files = get_audio_files(dataset_path)\n",
    "    labels_dict = {}\n",
    "    file_counters = {\"Cry\": 1, \"NotScreaming\": 1, \"Screaming\": 1}\n",
    "    \n",
    "    for file_path, label in tqdm(audio_files, desc=\"Extracting Features\", unit=\"file\"):\n",
    "        mel_spec, mfccs = extract_features(file_path)\n",
    "        \n",
    "        # Create label folder in feature directory\n",
    "        label_folder = os.path.join(feature_path, label)\n",
    "        os.makedirs(label_folder, exist_ok=True)\n",
    "        \n",
    "        # Generate new filename\n",
    "        file_index = file_counters[label]\n",
    "        file_counters[label] += 1\n",
    "        mel_file_name = f\"{label.lower()}{file_index}_mel.npy\"\n",
    "        mfcc_file_name = f\"{label.lower()}{file_index}_mfcc.npy\"\n",
    "        \n",
    "        # Save features\n",
    "        mel_path = os.path.join(label_folder, mel_file_name)\n",
    "        mfcc_path = os.path.join(label_folder, mfcc_file_name)\n",
    "        np.save(mel_path, mel_spec)\n",
    "        np.save(mfcc_path, mfccs)\n",
    "        \n",
    "        # Store label mapping\n",
    "        labels_dict[mel_file_name] = label\n",
    "        labels_dict[mfcc_file_name] = label\n",
    "    \n",
    "    # Save labels as JSON\n",
    "    labels_file = os.path.join(feature_path, \"labels.json\")\n",
    "    with open(labels_file, \"w\") as f:\n",
    "        json.dump(labels_dict, f)\n",
    "    \n",
    "    print(\"Feature extraction complete! Features saved in\", feature_path)\n",
    "\n",
    "# Example usage\n",
    "dataset_path = \"Datasets_Preprocessed\"\n",
    "feature_path = \"Features\"\n",
    "process_and_save_features(dataset_path, feature_path)\n"
   ]
  },
  {
   "cell_type": "code",
   "execution_count": null,
   "metadata": {},
   "outputs": [],
   "source": []
  }
 ],
 "metadata": {
  "kernelspec": {
   "display_name": "PythonEnvironment",
   "language": "python",
   "name": "python3"
  },
  "language_info": {
   "codemirror_mode": {
    "name": "ipython",
    "version": 3
   },
   "file_extension": ".py",
   "mimetype": "text/x-python",
   "name": "python",
   "nbconvert_exporter": "python",
   "pygments_lexer": "ipython3",
   "version": "3.12.3"
  }
 },
 "nbformat": 4,
 "nbformat_minor": 2
}
