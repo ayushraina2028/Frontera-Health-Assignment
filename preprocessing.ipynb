{
 "cells": [
  {
   "cell_type": "code",
   "execution_count": 3,
   "metadata": {},
   "outputs": [],
   "source": [
    "import os\n",
    "import librosa\n",
    "import soundfile as sf  \n",
    "from tqdm import tqdm"
   ]
  },
  {
   "cell_type": "code",
   "execution_count": 5,
   "metadata": {},
   "outputs": [
    {
     "name": "stderr",
     "output_type": "stream",
     "text": [
      "Processing Audio Files: 100%|██████████| 3950/3950 [00:47<00:00, 82.43file/s]"
     ]
    },
    {
     "name": "stdout",
     "output_type": "stream",
     "text": [
      "Audio preprocessing complete! Processed files saved in Datasets_Preprocessed\n"
     ]
    },
    {
     "name": "stderr",
     "output_type": "stream",
     "text": [
      "\n"
     ]
    }
   ],
   "source": [
    "import os\n",
    "import librosa\n",
    "import soundfile as sf\n",
    "from tqdm import tqdm\n",
    "\n",
    "def get_audio_files(dataset_path):\n",
    "    audio_files = []\n",
    "    for root, _, files in os.walk(dataset_path):\n",
    "        for file in files:\n",
    "            if file.endswith(\".wav\"):\n",
    "                label = os.path.basename(root)  # Folder name as label\n",
    "                audio_files.append((os.path.join(root, file), label))\n",
    "    return audio_files\n",
    "\n",
    "def convert_audio(file_path, output_path, target_sr=16000):\n",
    "    audio, sr = librosa.load(file_path, sr=None, mono=True)  # Load with original SR\n",
    "    if sr != target_sr:\n",
    "        audio = librosa.resample(audio, orig_sr=sr, target_sr=target_sr)\n",
    "    \n",
    "    # Remove leading and trailing silence\n",
    "    audio_trimmed, _ = librosa.effects.trim(audio, top_db=20)\n",
    "    \n",
    "    sf.write(output_path, audio_trimmed, target_sr)  # Save to new folder\n",
    "\n",
    "def preprocess_audio_files(dataset_path, output_path):\n",
    "    os.makedirs(output_path, exist_ok=True)\n",
    "    audio_files = get_audio_files(dataset_path)\n",
    "    \n",
    "    for file_path, label in tqdm(audio_files, desc=\"Processing Audio Files\", unit=\"file\"):\n",
    "        label_folder = os.path.join(output_path, label)\n",
    "        os.makedirs(label_folder, exist_ok=True)\n",
    "        output_file_path = os.path.join(label_folder, os.path.basename(file_path))\n",
    "        convert_audio(file_path, output_file_path)\n",
    "    \n",
    "    print(\"Audio preprocessing complete! Processed files saved in\", output_path)\n",
    "\n",
    "# Example usage\n",
    "dataset_path = \"Datasets\"\n",
    "output_path = \"Datasets_Preprocessed\"\n",
    "preprocess_audio_files(dataset_path, output_path)\n"
   ]
  },
  {
   "cell_type": "code",
   "execution_count": null,
   "metadata": {},
   "outputs": [],
   "source": []
  }
 ],
 "metadata": {
  "kernelspec": {
   "display_name": "PythonEnvironment",
   "language": "python",
   "name": "python3"
  },
  "language_info": {
   "codemirror_mode": {
    "name": "ipython",
    "version": 3
   },
   "file_extension": ".py",
   "mimetype": "text/x-python",
   "name": "python",
   "nbconvert_exporter": "python",
   "pygments_lexer": "ipython3",
   "version": "3.12.3"
  }
 },
 "nbformat": 4,
 "nbformat_minor": 2
}
