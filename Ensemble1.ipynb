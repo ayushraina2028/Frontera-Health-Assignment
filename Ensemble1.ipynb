{
 "cells": [
  {
   "cell_type": "code",
   "execution_count": null,
   "metadata": {},
   "outputs": [
    {
     "name": "stderr",
     "output_type": "stream",
     "text": [
      "2025-02-24 04:42:52.630700: I tensorflow/core/util/port.cc:153] oneDNN custom operations are on. You may see slightly different numerical results due to floating-point round-off errors from different computation orders. To turn them off, set the environment variable `TF_ENABLE_ONEDNN_OPTS=0`.\n",
      "2025-02-24 04:42:52.638428: E external/local_xla/xla/stream_executor/cuda/cuda_fft.cc:477] Unable to register cuFFT factory: Attempting to register factory for plugin cuFFT when one has already been registered\n",
      "WARNING: All log messages before absl::InitializeLog() is called are written to STDERR\n",
      "E0000 00:00:1740352372.647192    8676 cuda_dnn.cc:8310] Unable to register cuDNN factory: Attempting to register factory for plugin cuDNN when one has already been registered\n",
      "E0000 00:00:1740352372.649855    8676 cuda_blas.cc:1418] Unable to register cuBLAS factory: Attempting to register factory for plugin cuBLAS when one has already been registered\n",
      "2025-02-24 04:42:52.659022: I tensorflow/core/platform/cpu_feature_guard.cc:210] This TensorFlow binary is optimized to use available CPU instructions in performance-critical operations.\n",
      "To enable the following instructions: AVX2 AVX_VNNI FMA, in other operations, rebuild TensorFlow with the appropriate compiler flags.\n",
      "2025-02-24 04:42:55.622080: E external/local_xla/xla/stream_executor/cuda/cuda_driver.cc:152] failed call to cuInit: INTERNAL: CUDA error: Failed call to cuInit: CUDA_ERROR_NO_DEVICE: no CUDA-capable device is detected\n",
      "2025-02-24 04:42:55.622096: I external/local_xla/xla/stream_executor/cuda/cuda_diagnostics.cc:137] retrieving CUDA diagnostic information for host: administrator-B760M-DS3H-DDR4\n",
      "2025-02-24 04:42:55.622100: I external/local_xla/xla/stream_executor/cuda/cuda_diagnostics.cc:144] hostname: administrator-B760M-DS3H-DDR4\n",
      "2025-02-24 04:42:55.622180: I external/local_xla/xla/stream_executor/cuda/cuda_diagnostics.cc:168] libcuda reported version is: 535.183.1\n",
      "2025-02-24 04:42:55.622190: I external/local_xla/xla/stream_executor/cuda/cuda_diagnostics.cc:172] kernel reported version is: 535.183.1\n",
      "2025-02-24 04:42:55.622193: I external/local_xla/xla/stream_executor/cuda/cuda_diagnostics.cc:259] kernel version seems to match DSO: 535.183.1\n",
      "WARNING:absl:Compiled the loaded model, but the compiled metrics have yet to be built. `model.compile_metrics` will be empty until you train or evaluate the model.\n"
     ]
    },
    {
     "name": "stdout",
     "output_type": "stream",
     "text": [
      "\u001b[1m1/1\u001b[0m \u001b[32m━━━━━━━━━━━━━━━━━━━━\u001b[0m\u001b[37m\u001b[0m \u001b[1m0s\u001b[0m 33ms/step\n",
      "Predicted Class: Cry\n",
      "Prediction Scores: [9.9248135e-01 7.2007808e-03 3.1792070e-04]\n"
     ]
    }
   ],
   "source": [
    "import warnings\n",
    "warnings.filterwarnings(\"ignore\")  # Suppress all warnings\n",
    "\n",
    "import os\n",
    "import tensorflow as tf\n",
    "import tensorflow_hub as hub\n",
    "import numpy as np\n",
    "import librosa\n",
    "import pickle\n",
    "from tqdm import tqdm\n",
    "import torch\n",
    "import torch.nn as nn\n",
    "from transformers import Wav2Vec2Model, Wav2Vec2Config\n",
    "\n",
    "\n",
    "# ✅ Force TensorFlow to run on CPU (Prevents GPU memory usage)\n",
    "os.environ[\"CUDA_VISIBLE_DEVICES\"] = \"-1\"\n",
    "\n",
    "# Load YAMNet model\n",
    "yamnet_model = hub.load(\"https://tfhub.dev/google/yamnet/1\")\n",
    "\n",
    "def extract_embedding(file_path):\n",
    "    waveform, sr = librosa.load(file_path, sr=16000)\n",
    "    waveform = waveform.astype(np.float32)\n",
    "    scores, embeddings, spectrogram = yamnet_model(waveform)\n",
    "    tf.keras.backend.clear_session()  # ✅ Free memory\n",
    "    return np.mean(embeddings.numpy(), axis=0)\n",
    "\n",
    "# Load trained model\n",
    "model = tf.keras.models.load_model(\"yamnet_finetuned.h5\")\n",
    "\n",
    "# Test our trained model on random audio file\n",
    "filename = \"Datasets/Cry/0c8f14a9-6999-485b-97a2-913c1cbf099c-1430760379259-1.7-m-26-hu.wav\"\n",
    "embedding = extract_embedding(filename)\n",
    "embedding = np.expand_dims(embedding, axis=0)\n",
    "prediction = model.predict(embedding)\n",
    "predicted_class = np.argmax(prediction)\n",
    "\n",
    "# Load class mapping\n",
    "CLASS_MAPPING = {0: \"Cry\", 1: \"Screaming\", 2: \"NotScreaming\"}\n",
    "\n",
    "print(f\"Predicted Class: {CLASS_MAPPING[predicted_class]}\")\n",
    "print(f\"Prediction Scores: {prediction[0]}\")"
   ]
  }
 ],
 "metadata": {
  "kernelspec": {
   "display_name": "Python (tf)",
   "language": "python",
   "name": "your_env_name"
  },
  "language_info": {
   "codemirror_mode": {
    "name": "ipython",
    "version": 3
   },
   "file_extension": ".py",
   "mimetype": "text/x-python",
   "name": "python",
   "nbconvert_exporter": "python",
   "pygments_lexer": "ipython3",
   "version": "3.9.21"
  }
 },
 "nbformat": 4,
 "nbformat_minor": 2
}
